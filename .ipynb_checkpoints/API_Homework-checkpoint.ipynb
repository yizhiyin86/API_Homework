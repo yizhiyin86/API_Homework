{
 "cells": [
  {
   "cell_type": "code",
   "execution_count": 42,
   "metadata": {
    "collapsed": true
   },
   "outputs": [],
   "source": [
    "#Import dependencies\n",
    "from citipy import citipy\n",
    "import random\n",
    "import requests as req\n",
    "import json\n",
    "import pandas as pd\n",
    "import seaborn as sns\n",
    "import matplotlib.pyplot as plt\n",
    "%matplotlib inline"
   ]
  },
  {
   "cell_type": "code",
   "execution_count": 5,
   "metadata": {
    "collapsed": true
   },
   "outputs": [],
   "source": [
    "#_______________________________________________________________________________________________________________\n",
    "#PartI Obtaining the weather information of 600 unique cities with randomly chosen latitudes and longtitudes\n",
    "\n",
    "#Inputs: 1. randomly chosesn (latitudes, longtitudes) numbers\n",
    "\n",
    "#Steps: 1.Use citipy to find nearest city name and country code for each (latitudes, longtitudes)\n",
    "#       2.Filter redundant cities\n",
    "#       3.Make API calls to openweather and retrieve the weather information of all unique cities \n",
    "\n",
    "#Outputs. 1. a log txt file to record names of cities and url while making API calls\n",
    "#        2. a dictionary to store all the retrieved information as {cityname:response,....}\n",
    "#           this dictionary will be outputed as a weather_response.txt by json.dump so I do \n",
    "#           not need to make more API calls if I want to use pandas to analyze weather info next time\n",
    "#_________________________________________________________________________________________________________________\n",
    "\n",
    "#the constant part of url\n",
    "url='http://api.openweathermap.org/data/2.5/weather?'\n",
    "\n",
    "#my api key\n",
    "api='8fcce71da62f06f81dd7b4ec5318540d'\n",
    "\n",
    "#define a dictionary to store all the weather information\n",
    "weather_response={}\n",
    "\n",
    "#define a city list to keep track of cities have retrived from citipy\n",
    "city_list=[]\n",
    "\n",
    "#set up a counter only need to retrieve weather information for >500 \n",
    "count=0\n",
    "\n",
    "#write a log file\n",
    "with open('log.txt','a') as txt:\n",
    "     #I would like to access ~600 cities becaue 600 is a lucky number in Chinese culture\n",
    "    while count<600:\n",
    "        #randomly choose x,y as latitude and longtitude from a range (-90,90) and (-180,180) respectively\n",
    "        x,y=random.uniform(-90,90),random.uniform(-180,180)\n",
    "        \n",
    "        #use x,y to identifiy citipy.nearest_city and assign it to a variable nearest_city\n",
    "        nearest_city=citipy.nearest_city(x,y)\n",
    "        \n",
    "        #store city_name and country_code as two variables\n",
    "        city_name=nearest_city.city_name\n",
    "        \n",
    "        country_code=nearest_city.country_code\n",
    "        \n",
    "        #get non-redundant cities by using an if statement\n",
    "        if (city_name,country_code) not in city_list: \n",
    "            \n",
    "            #append only city that has not been in city_list\n",
    "            city_list.append((city_name,country_code))\n",
    "            \n",
    "            #build up a query new city\n",
    "            query=url+'APPID='+api+'&units=metric&'+'q='+city_name+','+country_code\n",
    "            \n",
    "            #make API call as json file\n",
    "            response=req.get(query).json()\n",
    "            \n",
    "            #when you request to get information of cities that are not recorded by openweather,\n",
    "            #it will respond a message of dictionary as below \n",
    "            #{'cod': '404', 'message': 'city not found'} \n",
    "            #exclude these ones from recording\n",
    "            if response!={'cod': '404', 'message': 'city not found'}:\n",
    "                \n",
    "                #put only valid response in the weather_response dictionary\n",
    "                weather_response[city_name]=response\n",
    "                \n",
    "                #add one to the counter \n",
    "                count+=1\n",
    "                \n",
    "                #append a line of record on the log.txt file\n",
    "                txt.write('Processing record of {} | {} \\n {}\\n'.format(count,city_name,query))\n",
    "\n",
    "# dump the weather_response dictionary into an output file \n",
    "with open('weather_response.txt','w') as output:\n",
    "    json.dump(weather_response, output,indent=4)\n",
    "    "
   ]
  },
  {
   "cell_type": "code",
   "execution_count": 41,
   "metadata": {},
   "outputs": [],
   "source": [
    "#_______________________________________________________________________________________________________________\n",
    "#PartII Analyze and visualize retrieved weather info\n",
    "\n",
    "#Inputs: 1. the weather_response.txt which has all the information from the API calls\n",
    "\n",
    "#steps: 1.load the weather_response.txt as json file\n",
    "#       2.extract information needed and make a pandas dataframe\n",
    "#       3.Plot using matplotlib or seaborn lib\n",
    "\n",
    "#Outputs. 1. csv file of the data frame\n",
    "#         2. images of figures\n",
    "# _______________________________________________\n",
    "\n",
    "#open input and load as json\n",
    "with open('weather_response.txt','r') as input_json:\n",
    "    data=json.load(input_json)\n",
    "\n",
    "#write a df with columns of ['Longtitude','Latitude','Humidity%','Temp','Min_Temp','Max_Temp','Cloudness','City_Name',\n",
    "# \\'Country','Wind_Speed','Date']\n",
    "\n",
    "#extract all the data above in a row [[all columns for each city],,,,,]\n",
    "row=[\\\n",
    "     [data[i]['coord'][a] for a in ('lon','lat')]+\\\n",
    "    [data[i]['main'][b] for b in ('humidity','temp','temp_min','temp_max')]+\\\n",
    "   [data[i]['clouds']['all']]+[data[i]['name']]+[data[i]['sys']['country']]+\\\n",
    "   [data[i]['wind']['speed']]+[data[i]['dt']]\\\n",
    "   for i in data.keys()]\n",
    "weather_df=pd.DataFrame(row,columns=['Longtitude','Latitude','Humidity%','Temp','Min_Temp','Max_Temp','Cloudness','City_Name',\\\n",
    "                                     'Country','Wind_Speed','Date'])\n",
    "\n",
    "#save all the information to csv file called weather.csv\n",
    "weather_df.to_csv('weather.csv',index=False)"
   ]
  },
  {
   "cell_type": "code",
   "execution_count": null,
   "metadata": {
    "collapsed": true
   },
   "outputs": [],
   "source": [
    "\n",
    "sns.set(style=\"whitegrid\", color_codes=True)"
   ]
  },
  {
   "cell_type": "code",
   "execution_count": null,
   "metadata": {
    "scrolled": true
   },
   "outputs": [],
   "source": [
    "\n",
    "plt.scatter(city_data_df['Latitude'],city_data_df['Temperature'])\n",
    "plt.xticks(range(-100,100,20))\n",
    "plt.xlabel('Latitude')\n",
    "plt.ylabel('Temperature Celsius')"
   ]
  },
  {
   "cell_type": "code",
   "execution_count": null,
   "metadata": {
    "collapsed": true
   },
   "outputs": [],
   "source": []
  }
 ],
 "metadata": {
  "kernelspec": {
   "display_name": "Python [conda env:PythonData]",
   "language": "python",
   "name": "conda-env-PythonData-py"
  },
  "language_info": {
   "codemirror_mode": {
    "name": "ipython",
    "version": 3
   },
   "file_extension": ".py",
   "mimetype": "text/x-python",
   "name": "python",
   "nbconvert_exporter": "python",
   "pygments_lexer": "ipython3",
   "version": "3.6.3"
  }
 },
 "nbformat": 4,
 "nbformat_minor": 2
}
