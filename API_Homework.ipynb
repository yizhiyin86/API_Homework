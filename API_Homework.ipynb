{
 "cells": [
  {
   "cell_type": "code",
   "execution_count": 131,
   "metadata": {},
   "outputs": [],
   "source": [
    "#Import dependencies\n",
    "from citipy import citipy\n",
    "import random\n",
    "import requests as req\n",
    "import json\n",
    "import pandas as pd\n",
    "import matplotlib.pyplot as plt\n",
    "%matplotlib inline"
   ]
  },
  {
   "cell_type": "code",
   "execution_count": 126,
   "metadata": {
    "scrolled": true
   },
   "outputs": [],
   "source": [
    "#the constant part of url\n",
    "url='http://api.openweathermap.org/data/2.5/weather?'\n",
    "\n",
    "#my api key\n",
    "api='8fcce71da62f06f81dd7b4ec5318540d'\n",
    "\n",
    "#define a bunch of lists to store information\n",
    "\n",
    "#to store non-redundant city names and country_code from by using citipy\n",
    "city_list=[]\n",
    "\n",
    "#to store weather information from API response\n",
    "lat=[]\n",
    "temp=[]\n",
    "wind=[]\n",
    "cloud=[]\n",
    "humidity=[]\n",
    "name=[]\n",
    "city_id=[]\n",
    "\n",
    "#set up a counter\n",
    "count=0\n",
    "\n",
    "#write a log file\n",
    "with open('log.txt','a') as txt:\n",
    "    \n",
    "    #I would like to access ~600 cities\n",
    "    while count<600:\n",
    "        #randomly choose x,y as latitude and longtitude from a range (-90,90) and (-180,180)\n",
    "        x,y=random.uniform(-90,90),random.uniform(-180,180)\n",
    "        \n",
    "        #use x,y to identifiy citipy.nearest_city and assign it to a variable nearest_city\n",
    "        nearest_city=citipy.nearest_city(x,y)\n",
    "        \n",
    "        #get non-redundant cities by using an if statement\n",
    "        if (nearest_city.city_name,nearest_city.country_code) not in city_list: \n",
    "            \n",
    "            #append only city that has not been in city_list\n",
    "            city_list.append((nearest_city.city_name,nearest_city.country_code))\n",
    "            \n",
    "            #build up a query new city\n",
    "            query=url+'APPID='+api+'&units=metric&'+'q='+nearest_city.city_name+','+nearest_city.country_code\n",
    "            \n",
    "            #make API call and load as json file\n",
    "            response=req.get(query).json()\n",
    "            \n",
    "            #some cities are not included in the openweather API and I tried it will return a dictionary like this \n",
    "            #{'cod': '404', 'message': 'city not found'} exclude these ones from recording\n",
    "            if response!={'cod': '404', 'message': 'city not found'}:\n",
    "                #get latitude\n",
    "                lat.append(response.get('coord').get('lat')) \n",
    "                #get temp\n",
    "                temp.append(response.get('main').get('temp')) \n",
    "                #Humidity (%)\n",
    "                humidity.append(response.get('main').get('humidity'))\n",
    "                #Wind Speed (mph) \n",
    "                wind.append(response.get('wind').get('speed'))\n",
    "                #Cloudiness (%) \n",
    "                cloud.append(response.get('clouds').get('all'))\n",
    "                #get city name just as a confirmation\n",
    "                name.append(response.get('name'))\n",
    "                #get city id again as a confirmation\n",
    "                city_id.append(response.get('id'))\n",
    "                #count one recorded ones \n",
    "                count+=1\n",
    "                #append a line of record on the log.txt file\n",
    "                txt.write('Processing record of {} | {} \\n {}\\n'.format(count,name[-1],query))"
   ]
  },
  {
   "cell_type": "code",
   "execution_count": 130,
   "metadata": {},
   "outputs": [
    {
     "data": {
      "text/html": [
       "<div>\n",
       "<style scoped>\n",
       "    .dataframe tbody tr th:only-of-type {\n",
       "        vertical-align: middle;\n",
       "    }\n",
       "\n",
       "    .dataframe tbody tr th {\n",
       "        vertical-align: top;\n",
       "    }\n",
       "\n",
       "    .dataframe thead th {\n",
       "        text-align: right;\n",
       "    }\n",
       "</style>\n",
       "<table border=\"1\" class=\"dataframe\">\n",
       "  <thead>\n",
       "    <tr style=\"text-align: right;\">\n",
       "      <th></th>\n",
       "      <th>City</th>\n",
       "      <th>Cloudness</th>\n",
       "      <th>Humidity</th>\n",
       "      <th>Latitude</th>\n",
       "      <th>Temperature</th>\n",
       "      <th>Wind Speed</th>\n",
       "    </tr>\n",
       "  </thead>\n",
       "  <tbody>\n",
       "    <tr>\n",
       "      <th>0</th>\n",
       "      <td>Kruisfontein</td>\n",
       "      <td>88</td>\n",
       "      <td>83</td>\n",
       "      <td>-34.00</td>\n",
       "      <td>18.54</td>\n",
       "      <td>2.52</td>\n",
       "    </tr>\n",
       "    <tr>\n",
       "      <th>1</th>\n",
       "      <td>Domoni</td>\n",
       "      <td>48</td>\n",
       "      <td>100</td>\n",
       "      <td>-12.26</td>\n",
       "      <td>27.36</td>\n",
       "      <td>2.12</td>\n",
       "    </tr>\n",
       "    <tr>\n",
       "      <th>2</th>\n",
       "      <td>Alta Floresta</td>\n",
       "      <td>68</td>\n",
       "      <td>96</td>\n",
       "      <td>-9.87</td>\n",
       "      <td>23.04</td>\n",
       "      <td>1.32</td>\n",
       "    </tr>\n",
       "    <tr>\n",
       "      <th>3</th>\n",
       "      <td>Pitsunda</td>\n",
       "      <td>90</td>\n",
       "      <td>81</td>\n",
       "      <td>43.16</td>\n",
       "      <td>7.00</td>\n",
       "      <td>2.00</td>\n",
       "    </tr>\n",
       "    <tr>\n",
       "      <th>4</th>\n",
       "      <td>Port Elizabeth</td>\n",
       "      <td>0</td>\n",
       "      <td>82</td>\n",
       "      <td>-33.92</td>\n",
       "      <td>19.00</td>\n",
       "      <td>4.60</td>\n",
       "    </tr>\n",
       "  </tbody>\n",
       "</table>\n",
       "</div>"
      ],
      "text/plain": [
       "             City  Cloudness  Humidity  Latitude  Temperature  Wind Speed\n",
       "0    Kruisfontein         88        83    -34.00        18.54        2.52\n",
       "1          Domoni         48       100    -12.26        27.36        2.12\n",
       "2   Alta Floresta         68        96     -9.87        23.04        1.32\n",
       "3        Pitsunda         90        81     43.16         7.00        2.00\n",
       "4  Port Elizabeth          0        82    -33.92        19.00        4.60"
      ]
     },
     "execution_count": 130,
     "metadata": {},
     "output_type": "execute_result"
    }
   ],
   "source": [
    "#make a dataframe\n",
    "city_data_df=pd.DataFrame({'City':name,'Temperature':temp,'Wind Speed':wind,'Cloudness':cloud,'Humidity':humidity,'Latitude':lat})\n",
    "city_data_df.head()"
   ]
  },
  {
   "cell_type": "code",
   "execution_count": 141,
   "metadata": {
    "scrolled": true
   },
   "outputs": [
    {
     "data": {
      "text/plain": [
       "Text(0,0.5,'Temperature Celsius')"
      ]
     },
     "execution_count": 141,
     "metadata": {},
     "output_type": "execute_result"
    },
    {
     "data": {
      "image/png": "[encoded data removed]",
      "text/plain": [
       "<matplotlib.figure.Figure at 0x11d003518>"
      ]
     },
     "metadata": {},
     "output_type": "display_data"
    }
   ],
   "source": [
    "\n",
    "plt.scatter(city_data_df['Latitude'],city_data_df['Temperature'])\n",
    "plt.xticks(range(-100,100,20))\n",
    "plt.xlabel('Latitude')\n",
    "plt.ylabel('Temperature Celsius')"
   ]
  },
  {
   "cell_type": "code",
   "execution_count": null,
   "metadata": {
    "collapsed": true
   },
   "outputs": [],
   "source": []
  }
 ],
 "metadata": {
  "kernelspec": {
   "display_name": "Python [conda env:PythonData]",
   "language": "python",
   "name": "conda-env-PythonData-py"
  },
  "language_info": {
   "codemirror_mode": {
    "name": "ipython",
    "version": 3
   },
   "file_extension": ".py",
   "mimetype": "text/x-python",
   "name": "python",
   "nbconvert_exporter": "python",
   "pygments_lexer": "ipython3",
   "version": "3.6.3"
  }
 },
 "nbformat": 4,
 "nbformat_minor": 2
}
